{
 "cells": [
  {
   "cell_type": "markdown",
   "metadata": {},
   "source": [
    "# MNIST Dataset: Linear Classifiers"
   ]
  },
  {
   "cell_type": "markdown",
   "metadata": {},
   "source": [
    "## Read in data"
   ]
  },
  {
   "cell_type": "code",
   "execution_count": 1,
   "metadata": {},
   "outputs": [],
   "source": [
    "%matplotlib inline\n",
    "import matplotlib.pyplot as plt \n",
    "import gzip, os, sys\n",
    "import numpy as np\n",
    "from sklearn.svm import LinearSVC, SVC\n",
    "from scipy.stats import multivariate_normal\n",
    "\n",
    "if sys.version_info[0] == 2:\n",
    "    from urllib import urlretrieve\n",
    "else:\n",
    "    from urllib.request import urlretrieve"
   ]
  },
  {
   "cell_type": "code",
   "execution_count": 2,
   "metadata": {},
   "outputs": [],
   "source": [
    "# Function that downloads a specified MNIST data file from Yann Le Cun's website\n",
    "def download(filename, source='http://yann.lecun.com/exdb/mnist/'):\n",
    "    print(\"Downloading %s\" % filename)\n",
    "    urlretrieve(source + filename, filename)\n",
    "\n",
    "# Invokes download() if necessary, then reads in images\n",
    "def load_mnist_images(filename):\n",
    "    if not os.path.exists(filename):\n",
    "        download(filename)\n",
    "    with gzip.open(filename, 'rb') as f:\n",
    "        data = np.frombuffer(f.read(), np.uint8, offset=16)\n",
    "    data = data.reshape(-1,784)\n",
    "    return data\n",
    "\n",
    "def load_mnist_labels(filename):\n",
    "    if not os.path.exists(filename):\n",
    "        download(filename)\n",
    "    with gzip.open(filename, 'rb') as f:\n",
    "        data = np.frombuffer(f.read(), np.uint8, offset=8)\n",
    "    return data"
   ]
  },
  {
   "cell_type": "code",
   "execution_count": 3,
   "metadata": {},
   "outputs": [],
   "source": [
    "## Load the training set\n",
    "train_data = load_mnist_images('train-images-idx3-ubyte.gz')\n",
    "train_labels = load_mnist_labels('train-labels-idx1-ubyte.gz')\n",
    "\n",
    "## Load the testing set\n",
    "test_data = load_mnist_images('t10k-images-idx3-ubyte.gz')\n",
    "test_labels = load_mnist_labels('t10k-labels-idx1-ubyte.gz')"
   ]
  },
  {
   "cell_type": "markdown",
   "metadata": {},
   "source": [
    "## Linear SVM"
   ]
  },
  {
   "cell_type": "code",
   "execution_count": 16,
   "metadata": {},
   "outputs": [],
   "source": [
    "def train_linear_svm(C = np.geomspace(0.001, 100, 10)):\n",
    "\n",
    "    train_errors = np.zeros_like(C)\n",
    "    test_errors = np.zeros_like(C)\n",
    "    \n",
    "    # train classifiers\n",
    "    for index in range(len(C)):\n",
    "        clf = LinearSVC(loss='hinge', C=C[index])\n",
    "        clf.fit(train_data, train_labels)\n",
    "        \n",
    "        test_predictions = clf.predict(test_data)\n",
    "        train_predictions = clf.predict(train_data)\n",
    "        \n",
    "        test_error_rate = np.sum(test_predictions != test_labels) / len(test_labels)\n",
    "        train_error_rate = np.sum(train_predictions != train_labels) / len(train_labels)\n",
    "        \n",
    "        test_errors[index] = test_error_rate\n",
    "        train_errors[index] = train_error_rate\n",
    "        print(f\"Finished training SVM with C={C[index]}\")\n",
    "        \n",
    "    return train_errors, test_errors\n",
    "\n",
    "def plot_error_curve(x, train_errors, test_errors):\n",
    "    \n",
    "    fig, ax = plt.subplots()\n",
    "    \n",
    "    ax.plot(x, train_errors, color='red', label='train error(%)')\n",
    "    ax.plot(x, test_errors, color='blue', label='test error(%)')\n",
    "\n",
    "    ax.set_xscale(\"log\", nonposx='clip')\n",
    "    ax.legend(loc='best')\n",
    "    \n",
    "    plt.show()\n",
    "    \n",
    "def train_quadratic_kernel_svm(C=1.0):\n",
    "    \n",
    "    clf = SVC(kernel='poly', degree=2, C=1.0)\n",
    "    clf.fit(train_data, train_labels)\n",
    "    clf.predict(test_data)\n",
    "    \n",
    "    test_predictions = clf.predict(test_data)\n",
    "    train_predictions = clf.predict(train_data)\n",
    "\n",
    "    test_error_rate = np.sum(test_predictions != test_labels) / len(test_labels)\n",
    "    train_error_rate = np.sum(train_predictions != train_labels) / len(train_labels)\n",
    "    \n",
    "    print(f\"Test error rate: {test_error_rate}\")\n",
    "    print(f\"Train error rate: {train_error_rate}\")\n",
    "        "
   ]
  },
  {
   "cell_type": "code",
   "execution_count": 17,
   "metadata": {
    "scrolled": true
   },
   "outputs": [
    {
     "name": "stdout",
     "output_type": "stream",
     "text": [
      "Finished training SVM with C=0.0001\n",
      "Finished training SVM with C=0.001\n",
      "Finished training SVM with C=0.01\n",
      "Finished training SVM with C=0.1\n",
      "Finished training SVM with C=1.0\n",
      "Finished training SVM with C=10.0\n",
      "Finished training SVM with C=100.0\n",
      "CPU times: user 14min 11s, sys: 6.54 s, total: 14min 17s\n",
      "Wall time: 14min 22s\n"
     ]
    }
   ],
   "source": [
    "%%time\n",
    "C = np.array([0.0001, 0.001, 0.01, 0.1, 1.0, 10, 100])\n",
    "train_err, test_err = train_linear_svm(C=C)"
   ]
  },
  {
   "cell_type": "code",
   "execution_count": 18,
   "metadata": {},
   "outputs": [
    {
     "data": {
      "image/png": "[encoded data removed]",
      "text/plain": [
       "<matplotlib.figure.Figure at 0x115407ef0>"
      ]
     },
     "metadata": {},
     "output_type": "display_data"
    }
   ],
   "source": [
    "plot_error_curve(C, train_err, test_err)"
   ]
  },
  {
   "cell_type": "code",
   "execution_count": 15,
   "metadata": {},
   "outputs": [
    {
     "name": "stdout",
     "output_type": "stream",
     "text": [
      "Test error rate: 0.0194\n",
      "Train error rate: 0.0\n"
     ]
    }
   ],
   "source": [
    "train_quadratic_kernel_svm()"
   ]
  },
  {
   "cell_type": "code",
   "execution_count": null,
   "metadata": {},
   "outputs": [],
   "source": []
  }
 ],
 "metadata": {
  "kernelspec": {
   "display_name": "Python 3",
   "language": "python",
   "name": "python3"
  },
  "language_info": {
   "codemirror_mode": {
    "name": "ipython",
    "version": 3
   },
   "file_extension": ".py",
   "mimetype": "text/x-python",
   "name": "python",
   "nbconvert_exporter": "python",
   "pygments_lexer": "ipython3",
   "version": "3.6.4"
  }
 },
 "nbformat": 4,
 "nbformat_minor": 2
}
