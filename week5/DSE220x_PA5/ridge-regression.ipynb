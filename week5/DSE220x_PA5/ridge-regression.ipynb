{
 "cells": [
  {
   "cell_type": "markdown",
   "metadata": {},
   "source": [
    "# Gradient-based solver for ridge regression"
   ]
  },
  {
   "cell_type": "markdown",
   "metadata": {},
   "source": [
    "In this notebook, you will create a **gradient descent** solver for **ridge regression** and then compare it to the built-in solver in `sklearn.linear_model`."
   ]
  },
  {
   "cell_type": "markdown",
   "metadata": {},
   "source": [
    "## 1. Set up notebook and create data set"
   ]
  },
  {
   "cell_type": "markdown",
   "metadata": {},
   "source": [
    "After loading in some standard packages, we create a synthetic data set consisting of data points `(x,y)`:\n",
    "* `x`: 100-dimensional vector whose coordinates are independent draws from a standard normal (Gaussian) distribution\n",
    "* `y`: response value given by `y = wx + e` where `w` is a target regression function and `e` is Gaussian noise\n",
    "\n",
    "We will fix `w` to be the 100-dimensional vector whose first ten coordinates are exactly 1.0, and whose remaining coordinates are zero. Thus only the first ten coordinates of `x` are relevant to the regression task."
   ]
  },
  {
   "cell_type": "code",
   "execution_count": 1,
   "metadata": {
    "collapsed": true
   },
   "outputs": [],
   "source": [
    "%matplotlib inline\n",
    "import numpy as np\n",
    "import matplotlib\n",
    "import matplotlib.pyplot as plt\n",
    "from sklearn import linear_model\n",
    "from sklearn.metrics import mean_squared_error\n",
    "matplotlib.rc('xtick', labelsize=14) \n",
    "matplotlib.rc('ytick', labelsize=14)"
   ]
  },
  {
   "cell_type": "markdown",
   "metadata": {},
   "source": [
    "The following procedure, **generate_data**, creates a data set of a specified number of points. It is invoked as follows:\n",
    "* `trainx, trainy = generate_data(n)`\n",
    "\n",
    "Here:\n",
    "* `n` is the target number of points\n",
    "* `trainx`: `nx100` array of data points\n",
    "* `trainy`: array of `n` response values"
   ]
  },
  {
   "cell_type": "code",
   "execution_count": 2,
   "metadata": {
    "collapsed": true
   },
   "outputs": [],
   "source": [
    "def generate_data(n):\n",
    "    d = 100\n",
    "    w = np.zeros(d)\n",
    "    for i in range(0,10):\n",
    "        w[i] = 1.0\n",
    "    #\n",
    "    trainx = np.random.normal(size=(n,d))\n",
    "    e = np.random.normal(size=(n))\n",
    "    trainy = np.dot(trainx, w) + e\n",
    "    #\n",
    "    return trainx, trainy"
   ]
  },
  {
   "cell_type": "markdown",
   "metadata": {},
   "source": [
    "## 2. Gradient descent solver for ridge regression"
   ]
  },
  {
   "cell_type": "markdown",
   "metadata": {},
   "source": [
    "<font color=\"magenta\">**For you to do:**</font> Define a procedure, **ridge_regression_GD**, that uses gradient descent to solve the ridge regression problem. It is invoked as follows:\n",
    "\n",
    "* `w,b,losses = ridge_regression_GD(x,y,C)`\n",
    "\n",
    "Here, the input consists of:\n",
    "* training data `x,y`, where `x` and `y` are numpy arrays of dimension `n`-by-`d` and `n`, respectively (if there are `n` training points)\n",
    "* regularization constant `C`\n",
    "\n",
    "The function should find the `d`-dimensional vector `w` and offset `b` that minimize the ridge regression loss function (with regularization constant `C`), and return:\n",
    "* `w` and `b`\n",
    "* `losses`, an array containing the ridge regression loss at each iteration\n",
    "\n",
    "<font color=\"magenta\">Advice:</font> First figure out the derivative, which has a relatively simple form. Next, when implementing gradient descent, think carefully about two issues.\n",
    "\n",
    "1. What is the step size?\n",
    "2. When has the procedure converged?\n",
    "\n",
    "Take the time to experiment with different ways of handling these."
   ]
  },
  {
   "cell_type": "code",
   "execution_count": 47,
   "metadata": {},
   "outputs": [],
   "source": [
    "def ridge_regression_GD(x,y,C):\n",
    "    ### Put your code here\n",
    "    \n",
    "    # maximum number of iterations\n",
    "    max_iter = 1000\n",
    "    \n",
    "    # step size\n",
    "    eta = 1 / max_iter\n",
    "    \n",
    "    # minimum change in loss to end descent\n",
    "    epsilon = 0.0001\n",
    "    \n",
    "    # losses\n",
    "    losses = np.zeros(max_iter)\n",
    "    \n",
    "    # loss at w\n",
    "    def loss(X, y, w, C):\n",
    "        assert (w.shape[1] == 1), \"Weight vector should be a column vector\"\n",
    "        assert (y.shape[1] == 1), \"Response vector should be a column vector\"\n",
    "        assert (X.shape[0] == y.shape[0]), \"X and y should be same height\"\n",
    "        \n",
    "        L_w = (y - X.dot(w)).T.dot(y - X.dot(w)) + C*w.T.dot(w)\n",
    "        return L_w\n",
    "    \n",
    "    # derivative of loss function at w\n",
    "    def derivative(X, y, w, C):\n",
    "        assert (w.shape[1] == 1), \"Weight vector should be a column vector\"\n",
    "        assert (y.shape[1] == 1), \"Response vector should be a column vector\"\n",
    "        assert (X.shape[0] == y.shape[0]), \"X and y should be same height\"\n",
    "\n",
    "        dl_dw = (X.T.dot(X) + C*np.identity(X.shape[1])).dot(w) - X.T.dot(y)\n",
    "        return dl_dw\n",
    "    \n",
    "    # set weight vectors\n",
    "    w_current = np.zeros(x.shape[1] + 1).reshape(-1, 1) # d + 1 dimensions\n",
    "    w_next = np.zeros_like(w_current).reshape(-1, 1)\n",
    "\n",
    "    # add column of ones to X\n",
    "    X = np.c_[np.ones(x.shape[0]), x]\n",
    "    \n",
    "    # reshape y\n",
    "    y = y.reshape(-1, 1)\n",
    "    \n",
    "    # start descent\n",
    "    starting_loss = loss(X, y, w_current, C)\n",
    "    losses[0] = starting_loss\n",
    "    last_loss_ind = -1\n",
    "    \n",
    "    for step_time in range(1, max_iter):\n",
    "        w_next = w_current - eta * derivative(X, y, w_current, C)\n",
    "        \n",
    "        # calculate change in loss\n",
    "        current_loss = loss(X, y, w_current, C)\n",
    "        next_loss = loss(X, y, w_next, C)\n",
    "        losses[step_time] = next_loss\n",
    "        \n",
    "        delta_loss = current_loss - next_loss\n",
    "        if np.abs(delta_loss) < epsilon:\n",
    "            last_loss_ind = step_time\n",
    "            break\n",
    "        \n",
    "        w_current = w_next\n",
    "            \n",
    "    w = w_next[1:]\n",
    "    b = w_next[0]\n",
    "    losses = losses[:last_loss_ind+1]\n",
    "    \n",
    "    return w, b, losses"
   ]
  },
  {
   "cell_type": "markdown",
   "metadata": {},
   "source": [
    "Let's try it out and print a graph of the loss values during the optimization process."
   ]
  },
  {
   "cell_type": "code",
   "execution_count": 48,
   "metadata": {},
   "outputs": [
    {
     "data": {
      "image/png": "[encoded data removed]",
      "text/plain": [
       "<matplotlib.figure.Figure at 0x1a14d766d8>"
      ]
     },
     "metadata": {},
     "output_type": "display_data"
    }
   ],
   "source": [
    "# Generate 200 data points\n",
    "n = 200\n",
    "x,y = generate_data(n)\n",
    "# Set regularization constant\n",
    "C = 1.0\n",
    "# Run gradient descent solver\n",
    "w, b, losses = ridge_regression_GD(x,y,C)\n",
    "# Plot the losses\n",
    "plt.plot(losses,'r')\n",
    "plt.xlabel('Iterations', fontsize=14)\n",
    "plt.ylabel('Loss', fontsize=14)\n",
    "plt.show()"
   ]
  },
  {
   "cell_type": "markdown",
   "metadata": {},
   "source": [
    "<font color=\"magenta\">**Something to think about**</font>\n",
    "\n",
    "1. In setting the step size, does it work to use a fixed schedule 1/t? Why or why not?\n",
    "\n",
    "2. Can you set up the gradient descent procedure in such a way that on each iteration, the loss monotonically decreases?\n"
   ]
  },
  {
   "cell_type": "markdown",
   "metadata": {},
   "source": [
    "## 3. Evaluate the gradient descent solver"
   ]
  },
  {
   "cell_type": "markdown",
   "metadata": {},
   "source": [
    "Now let's compare the regressor found by your gradient descent procedure to that returned by the built-in ridge regression solver in `sklearn`. We will compare them in two ways:\n",
    "* Their MSE values\n",
    "* The distance between the corresponding `w`-vectors\n",
    "\n",
    "The latter should be smaller than 10^{-4}.\n"
   ]
  },
  {
   "cell_type": "code",
   "execution_count": 49,
   "metadata": {
    "collapsed": true
   },
   "outputs": [],
   "source": [
    "def compute_mse(w,b,x,y):\n",
    "    residuals = y.reshape(-1,1) - (np.dot(x, w) + b)\n",
    "    mse = residuals.T.dot(residuals)/n\n",
    "    return mse[0,0]"
   ]
  },
  {
   "cell_type": "code",
   "execution_count": 50,
   "metadata": {},
   "outputs": [
    {
     "name": "stdout",
     "output_type": "stream",
     "text": [
      "MSE of gradient descent solver:  0.508383639025\n",
      "MSE of built-in solver:  0.507856964639\n",
      "Distance between w-coefficients:  0.00671065824035\n"
     ]
    }
   ],
   "source": [
    "# Generate 200 data points\n",
    "n = 200\n",
    "x,y = generate_data(n)\n",
    "# Set regularization constant\n",
    "C = 10.0\n",
    "# Run gradient descent solver and compute its MSE\n",
    "w, b, losses = ridge_regression_GD(x,y,C)\n",
    "# Use built-in routine for ridge regression and compute MSE\n",
    "regr = linear_model.Ridge(alpha=C)\n",
    "regr.fit(x, y)\n",
    "# Print MSE values and L2 distance between the regression functions\n",
    "print (\"MSE of gradient descent solver: \", compute_mse(w,b,x,y))\n",
    "print (\"MSE of built-in solver: \", mean_squared_error(regr.predict(x), y))\n",
    "print (\"Distance between w-coefficients: \", np.linalg.norm(w-regr.coef_.reshape(-1,1)))"
   ]
  },
  {
   "cell_type": "markdown",
   "metadata": {},
   "source": [
    "<font color=\"magenta\">**Something to think about**</font>\n",
    "\n",
    "The data was originally generated using a linear function in which only ten of the 100 features (the first ten) were relevant. Does the vector `w` returned by ridge regression correctly identify the relevant features?"
   ]
  },
  {
   "cell_type": "code",
   "execution_count": 51,
   "metadata": {},
   "outputs": [
    {
     "data": {
      "text/plain": [
       "array([ 9,  4,  0,  5,  7,  1,  6,  8,  2,  3, 62, 81, 39, 72, 37, 59, 77,\n",
       "       63, 71, 68, 18, 89, 14, 23, 30, 55, 64, 58, 51, 21, 87, 53, 99, 20,\n",
       "       24, 35, 90, 43, 88, 85, 25, 52, 78, 38, 16, 76, 50, 82, 34, 91, 29,\n",
       "       92, 47, 42, 13, 41, 32, 56, 57, 45, 73, 19, 66, 75, 36, 48, 98, 60,\n",
       "       83, 27, 44, 54, 28, 93, 74, 79, 49, 94, 86, 96, 95, 12, 10, 40, 11,\n",
       "       26, 61, 84, 22, 17, 97, 31, 33, 46, 15, 67, 69, 65, 80, 70])"
      ]
     },
     "execution_count": 51,
     "metadata": {},
     "output_type": "execute_result"
    }
   ],
   "source": [
    "np.argsort(w.reshape(1,-1)[0])[::-1]"
   ]
  },
  {
   "cell_type": "code",
   "execution_count": 42,
   "metadata": {},
   "outputs": [
    {
     "data": {
      "image/png": "[encoded data removed]",
      "text/plain": [
       "<matplotlib.figure.Figure at 0x1a14ddfef0>"
      ]
     },
     "metadata": {},
     "output_type": "display_data"
    }
   ],
   "source": [
    "fig, ax = plt.subplots(figsize=(10, 7))\n",
    "\n",
    "ax.barh(range(len(w)), w, align='center')\n",
    "ax.set(title=\"Magnitude of coefficients\", xlabel=\"magnitude\", ylabel=\"feature\")\n",
    "\n",
    "plt.show()"
   ]
  },
  {
   "cell_type": "code",
   "execution_count": null,
   "metadata": {
    "collapsed": true
   },
   "outputs": [],
   "source": []
  }
 ],
 "metadata": {
  "kernelspec": {
   "display_name": "Python 3",
   "language": "python",
   "name": "python3"
  },
  "language_info": {
   "codemirror_mode": {
    "name": "ipython",
    "version": 3
   },
   "file_extension": ".py",
   "mimetype": "text/x-python",
   "name": "python",
   "nbconvert_exporter": "python",
   "pygments_lexer": "ipython3",
   "version": "3.6.2"
  },
  "toc": {
   "colors": {
    "hover_highlight": "#DAA520",
    "navigate_num": "#000000",
    "navigate_text": "#333333",
    "running_highlight": "#FF0000",
    "selected_highlight": "#FFD700",
    "sidebar_border": "#EEEEEE",
    "wrapper_background": "#FFFFFF"
   },
   "moveMenuLeft": true,
   "nav_menu": {
    "height": "12px",
    "width": "252px"
   },
   "navigate_menu": true,
   "number_sections": false,
   "sideBar": true,
   "threshold": 4,
   "toc_cell": false,
   "toc_section_display": "block",
   "toc_window_display": false,
   "widenNotebook": false
  }
 },
 "nbformat": 4,
 "nbformat_minor": 2
}
